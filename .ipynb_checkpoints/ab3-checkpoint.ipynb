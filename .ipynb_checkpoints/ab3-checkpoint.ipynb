{
 "cells": [
  {
   "cell_type": "code",
   "execution_count": null,
   "metadata": {},
   "outputs": [],
   "source": [
    "# week 4 labs. \n",
    "\n",
    "def issub(A, B):\n",
    "    x = -1\n",
    "    for i in range(len(B)):\n",
    "        if A[0] == B[i]:\n",
    "            x = i\n",
    "    if x != -1 & (len(B)-x)>=len(A):\n",
    "        marker =1\n",
    "        z=1\n",
    "        for j in range(x+1, len(B)):\n",
    "            if z<=len(A)-1:\n",
    "                print(z)\n",
    "                if B[j]== A[z]:\n",
    "                    marker= marker+1\n",
    "                z = z+1\n",
    "        if marker == len(A):\n",
    "            return \"yes sub list\"\n",
    "    return \"not sub list\"\n",
    "         \n",
    "    \n",
    "A=[26,31,25,40]\n",
    "B=[10,20,26,31,7,25,40,9]\n",
    "print(issub(A,B))"
   ]
  },
  {
   "cell_type": "code",
   "execution_count": null,
   "metadata": {},
   "outputs": [],
   "source": [
    "def timesOccursIn(k,A):\n",
    "    x = 0 \n",
    "    return findall(k, A, x)\n",
    "\n",
    "def findall(k, A, x):\n",
    "    if len(A)==0:\n",
    "        return x\n",
    "    if k==A[0]:\n",
    "        x=x+1\n",
    "    return findall(k, A[1:], x)\n",
    "\n",
    "A=[1,2,5,3,6,5,3,5,5,4]\n",
    "print(timesOccursIn(5,A))\n",
    "\n",
    "# recursion needs you to return the function itself\n",
    "# it also needs a break else it will go on for ever\n"
   ]
  },
  {
   "cell_type": "code",
   "execution_count": null,
   "metadata": {},
   "outputs": [],
   "source": [
    "def multall(k, A):\n",
    "    i = 0\n",
    "    return mrec(k, A, i)\n",
    "\n",
    "def mrec(k, A, i):\n",
    "    if i>=len(A):\n",
    "        return A\n",
    "    A[i]= A[i]*k\n",
    "    i=i+1\n",
    "    return mrec(k, A, i)\n",
    "\n",
    "A= [5,12,31,7,25]\n",
    "print(multall(10, A))"
   ]
  },
  {
   "cell_type": "code",
   "execution_count": null,
   "metadata": {},
   "outputs": [],
   "source": [
    "def mall2(k, A):\n",
    "    x = []\n",
    "    return mrec2(k, A, x)\n",
    "\n",
    "def mrec2(k, A, x):\n",
    "    if len(A)==0:\n",
    "        return x\n",
    "    x.append(A[0]*k)\n",
    "    return mrec2(k, A[1:], x)\n",
    "\n",
    "print(mall2(10, [2,3,6,8,20]))\n",
    "    "
   ]
  },
  {
   "cell_type": "code",
   "execution_count": 13,
   "metadata": {},
   "outputs": [
    {
     "name": "stdout",
     "output_type": "stream",
     "text": [
      "0\n",
      "8\n",
      "6\n"
     ]
    }
   ],
   "source": [
    "\n",
    "def binSearch2(A,k):\n",
    "    lo = 0\n",
    "    #print(lo)\n",
    "    hi = len(A)-1\n",
    "    #print(hi)\n",
    "    return binser(A, k, lo, hi)\n",
    "    \n",
    "    \n",
    "    \n",
    "def binser(A, k, lo, hi):\n",
    "    if lo>=hi:\n",
    "        return -1\n",
    "    mid = (lo+hi)//2\n",
    "    #print(A[mid])\n",
    "    if k == A[mid]:\n",
    "        return mid\n",
    "    if k< A[mid]:\n",
    "        hi = mid-1\n",
    "        return binser(A, k, lo, hi) \n",
    "    if k> A[mid]:\n",
    "        lo = mid+1\n",
    "        return binser(A, k, lo, hi) \n",
    "     \n",
    "\n",
    "A=[2,4,5,7,9,21,24,46,73]\n",
    "print(binSearch2(A,24))\n",
    "\n"
   ]
  },
  {
   "cell_type": "code",
   "execution_count": 21,
   "metadata": {},
   "outputs": [
    {
     "name": "stdout",
     "output_type": "stream",
     "text": [
      "36\n"
     ]
    }
   ],
   "source": [
    "## original jupyter file couldnt be found so this is an alternative \n",
    "\n",
    "class Student:\n",
    "  def __init__(self, ids, mark):\n",
    "    self.ids = ids\n",
    "    self.mark = mark\n",
    "\n",
    "s1 = Student(111, 36)\n",
    "s2 = Student(112, 76)\n",
    "s3 = Student(113, 84)\n",
    "s4 = Student(114, 22)\n",
    "s5 = Student(115, 98)\n",
    "s6 = Student(116, 74)\n",
    "s7 = Student(117, 24)\n",
    "s8 = Student(118, 89)\n",
    "s9 = Student(119, 67)\n",
    "s10 = Student(120, 79)\n",
    "A = []\n",
    "A.append(s1)\n",
    "A.append(s2)\n",
    "A.append(s3)\n",
    "A.append(s4)\n",
    "A.append(s5)\n",
    "A.append(s6)\n",
    "A.append(s7)\n",
    "A.append(s8)\n",
    "A.append(s9)\n",
    "A.append(s10)\n",
    "\n",
    "print(A[0].mark)"
   ]
  },
  {
   "cell_type": "code",
   "execution_count": 22,
   "metadata": {},
   "outputs": [
    {
     "name": "stdout",
     "output_type": "stream",
     "text": [
      "[112, 113, 115, 116, 118, 119, 120]\n"
     ]
    }
   ],
   "source": [
    "def filterByMark(A,f):\n",
    "    marks = []\n",
    "    return findmark(A, f, marks)\n",
    "\n",
    "def findmark(A, f, marks):\n",
    "    if len(A)==0:\n",
    "        return marks\n",
    "    if A[0].mark>=f:\n",
    "        marks.append(A[0].ids)\n",
    "    return findmark(A[1:], f, marks)\n",
    "\n",
    "\n",
    "print(filterByMark(A,60)) \n",
    "    "
   ]
  },
  {
   "cell_type": "code",
   "execution_count": null,
   "metadata": {},
   "outputs": [],
   "source": []
  }
 ],
 "metadata": {
  "kernelspec": {
   "display_name": "Python 3",
   "language": "python",
   "name": "python3"
  },
  "language_info": {
   "codemirror_mode": {
    "name": "ipython",
    "version": 3
   },
   "file_extension": ".py",
   "mimetype": "text/x-python",
   "name": "python",
   "nbconvert_exporter": "python",
   "pygments_lexer": "ipython3",
   "version": "3.7.6"
  }
 },
 "nbformat": 4,
 "nbformat_minor": 4
}
