{
 "cells": [
  {
   "cell_type": "markdown",
   "metadata": {},
   "source": [
    "# Lab 2 notebook\n",
    "\n",
    "We have already prepared some tests for you for Question 1.\n",
    "\n",
    "You can answer the rest of the questions by writing code in new cells at the end of this notebook."
   ]
  },
  {
   "cell_type": "code",
   "execution_count": 2,
   "metadata": {},
   "outputs": [
    {
     "name": "stdout",
     "output_type": "stream",
     "text": [
      "[50, 120, 310, 70, 250]\n",
      "[-50, 120, -310, 70, 250]\n",
      "[5, -12, 31, -7, -25]\n",
      "[]\n",
      "[]\n"
     ]
    }
   ],
   "source": [
    "def multAll(A, k):\n",
    "    for i in range(len(A)):\n",
    "        A[i] = A[i]*k\n",
    "    # you need to implement this function\n",
    "\n",
    "# test 0\n",
    "A = [5,12,31,7,25]\n",
    "multAll(A, 10)\n",
    "print(A)  # should print [50,120,310,70,250]\n",
    "\n",
    "# test 1\n",
    "A = [-5,12,-31,7,25]\n",
    "multAll(A, 10)\n",
    "print(A)  # should print [-50,120,-310,70,250]\n",
    "\n",
    "# test 2\n",
    "A = [-5,12,-31,7,25]\n",
    "multAll(A, -1)\n",
    "print(A)  # should print [5,-12,31,-7,-25\n",
    "\n",
    "# test 3\n",
    "A = []\n",
    "multAll(A, 10)\n",
    "print(A)  # should print []\n",
    "\n",
    "# test 4\n",
    "A = []\n",
    "multAll(A, -1)\n",
    "print(A)  # should print []"
   ]
  },
  {
   "cell_type": "code",
   "execution_count": 4,
   "metadata": {},
   "outputs": [
    {
     "name": "stdout",
     "output_type": "stream",
     "text": [
      "[50, 120, 310, 70, 250]\n",
      "[5, 12, 31, 7, 25]\n",
      "[-50, 120, -310, 70, 250]\n",
      "[-5, 12, -31, 7, 25]\n",
      "[5, -12, 31, -7, -25]\n",
      "[-5, 12, -31, 7, 25]\n",
      "[]\n",
      "[]\n",
      "[]\n",
      "[]\n"
     ]
    }
   ],
   "source": [
    "def multAll2(A, k):\n",
    "    aa = []\n",
    "    for i in range(len(A)):\n",
    "        aa.append(A[i]*k)\n",
    "    return aa\n",
    "    # you need to implement this function\n",
    "    \n",
    "# test 0\n",
    "A = [5,12,31,7,25]\n",
    "print(multAll2(A, 10))  # should print [50,120,310,70,250]\n",
    "print(A)  # should print [5,12,31,7,25]\n",
    "\n",
    "# test 1\n",
    "A = [-5,12,-31,7,25]\n",
    "print(multAll2(A, 10))  # should print [-50,120,-310,70,250]\n",
    "print(A)  # should print [-5,12,-31,7,25]\n",
    "\n",
    "# test 2\n",
    "A = [-5,12,-31,7,25]\n",
    "print(multAll2(A, -1))  # should print [5,-12,31,-7,-25]\n",
    "print(A)  # should print [-5,12,-31,7,25]\n",
    "\n",
    "# test 3\n",
    "A = []\n",
    "print(multAll2(A, 10))  # should print []\n",
    "print(A)  # should print []\n",
    "\n",
    "# test 4\n",
    "A = []\n",
    "print(multAll2(A, -1))  # should print []\n",
    "print(A)  # should print []"
   ]
  },
  {
   "cell_type": "code",
   "execution_count": 7,
   "metadata": {},
   "outputs": [
    {
     "name": "stdout",
     "output_type": "stream",
     "text": [
      "2\n"
     ]
    }
   ],
   "source": [
    "def biggestIn(A):\n",
    "    x = 0\n",
    "    z = 0\n",
    "    if len(A)>1:\n",
    "        x = A[0]\n",
    "    else:\n",
    "        return A\n",
    "    for i in range(1,len(A)):\n",
    "        if A[i]>x:\n",
    "            x = A[i]\n",
    "            z = i\n",
    "    return z\n",
    "\n",
    "A=[5,12,31,7,25] \n",
    "print(biggestIn(A))      "
   ]
  },
  {
   "cell_type": "code",
   "execution_count": 8,
   "metadata": {},
   "outputs": [
    {
     "name": "stdout",
     "output_type": "stream",
     "text": [
      "[12, 31, 7]\n"
     ]
    }
   ],
   "source": [
    "def occurInBoth(A, B):\n",
    "    x = []\n",
    "    for i in range(len(A)):\n",
    "        for j in range(len(B)):\n",
    "            if A[i]==B[j]:\n",
    "                x.append(A[i])\n",
    "    return x\n",
    "\n",
    "A= [5,12,31,7,25]\n",
    "B= [4,12,8,7,42,31]\n",
    "\n",
    "print(occurInBoth(A, B))\n",
    "            "
   ]
  },
  {
   "cell_type": "code",
   "execution_count": 10,
   "metadata": {},
   "outputs": [
    {
     "name": "stdout",
     "output_type": "stream",
     "text": [
      "[2, 5, 8]\n"
     ]
    }
   ],
   "source": [
    "def biggestIn(A):\n",
    "    x = 0\n",
    "    z = []\n",
    "    if len(A)>1:\n",
    "        x = A[0]\n",
    "    else:\n",
    "        return A\n",
    "    for i in range(1,len(A)):\n",
    "        if A[i]>x:\n",
    "            x = A[i]\n",
    "    for j in range(len(A)):\n",
    "        if A[j]==x:\n",
    "            z.append(j)\n",
    "    return z\n",
    "\n",
    "A= [5,12,31,7,25,31,18,7,31]\n",
    "print(biggestIn(A))  "
   ]
  },
  {
   "cell_type": "code",
   "execution_count": null,
   "metadata": {},
   "outputs": [],
   "source": []
  }
 ],
 "metadata": {
  "kernelspec": {
   "display_name": "Python 3",
   "language": "python",
   "name": "python3"
  },
  "language_info": {
   "codemirror_mode": {
    "name": "ipython",
    "version": 3
   },
   "file_extension": ".py",
   "mimetype": "text/x-python",
   "name": "python",
   "nbconvert_exporter": "python",
   "pygments_lexer": "ipython3",
   "version": "3.7.6"
  }
 },
 "nbformat": 4,
 "nbformat_minor": 2
}
