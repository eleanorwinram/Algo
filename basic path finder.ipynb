{
 "cells": [
  {
   "cell_type": "code",
   "execution_count": 33,
   "metadata": {},
   "outputs": [
    {
     "name": "stdout",
     "output_type": "stream",
     "text": [
      "1\n",
      "2\n",
      "['a', 'c', 'd', 'e', 'f']\n",
      "The total distance for this path is 7\n"
     ]
    }
   ],
   "source": [
    "# very basic path finder, works in a similar fashion to dijsktra but all edges are unidirectional. \n",
    "\n",
    "class Edge:\n",
    "  def __init__(self, start, end, distance):\n",
    "    self.start = start\n",
    "    self.end = end\n",
    "    self.distance = distance\n",
    "    \n",
    "\n",
    "nodes = [\"a\", \"b\", \"c\", \"d\", \"e\", \"f\"]\n",
    "\n",
    "edges = [Edge(\"a\", \"b\", 4), Edge(\"a\", \"c\", 1), Edge(\"c\", \"b\", 3), Edge(\"c\", \"e\", 5), Edge(\"c\", \"d\", 2), Edge(\"b\", \"d\", 6), Edge(\"d\", \"e\", 1), Edge(\"e\", \"f\", 3), Edge(\"d\", \"f\", 7)]\n",
    "\n",
    "        \n",
    "def isinhere(A, x):\n",
    "    for i in range(len(A)):\n",
    "        if x == A[i]:\n",
    "            return 1\n",
    "    return 0\n",
    "\n",
    "s = 0\n",
    "d = 0\n",
    "nextone = nodes[0]\n",
    "path = [nextone]\n",
    "while len(nodes)!=0:\n",
    "    temp = []\n",
    "    ishere = isinhere(path, \"f\")\n",
    "    if ishere == 1:\n",
    "        break\n",
    "    \n",
    "    for i in range(len(edges)):\n",
    "        if edges[i].start == nextone:\n",
    "            temp.append(edges[i])\n",
    "    prev = nextone\n",
    "    smallest = 0\n",
    "    if len(temp)>=2:\n",
    "        smallest = temp[0].distance\n",
    "        nextone = temp[0].end\n",
    "\n",
    "        for i in range(1, len(temp)):\n",
    "            if temp[i].distance < smallest:\n",
    "                smallest = temp[i].distance\n",
    "                nextone = temp[i].end\n",
    "                print(i)\n",
    "    else:\n",
    "        smallest = temp[0].distance\n",
    "        nextone = temp[0].end \n",
    "    s = s + smallest\n",
    "    path.append(nextone)\n",
    "    nodes.remove(prev)\n",
    "\n",
    "    \n",
    "print(path)\n",
    "print(\"The total distance for this path is \"+ str(s))\n",
    "    \n",
    "\n",
    "\n",
    "        \n"
   ]
  },
  {
   "cell_type": "code",
   "execution_count": null,
   "metadata": {},
   "outputs": [],
   "source": []
  },
  {
   "cell_type": "code",
   "execution_count": null,
   "metadata": {},
   "outputs": [],
   "source": []
  }
 ],
 "metadata": {
  "kernelspec": {
   "display_name": "Python 3",
   "language": "python",
   "name": "python3"
  },
  "language_info": {
   "codemirror_mode": {
    "name": "ipython",
    "version": 3
   },
   "file_extension": ".py",
   "mimetype": "text/x-python",
   "name": "python",
   "nbconvert_exporter": "python",
   "pygments_lexer": "ipython3",
   "version": "3.7.6"
  }
 },
 "nbformat": 4,
 "nbformat_minor": 4
}
