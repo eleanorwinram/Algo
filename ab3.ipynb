{
 "cells": [
  {
   "cell_type": "code",
   "execution_count": 12,
   "metadata": {},
   "outputs": [
    {
     "name": "stdout",
     "output_type": "stream",
     "text": [
      "1\n",
      "2\n",
      "3\n",
      "not sub list\n"
     ]
    }
   ],
   "source": [
    "def issub(A, B):\n",
    "    x = -1\n",
    "    for i in range(len(B)):\n",
    "        if A[0] == B[i]:\n",
    "            x = i\n",
    "    if x != -1 & (len(B)-x)>=len(A):\n",
    "        marker =1\n",
    "        z=1\n",
    "        for j in range(x+1, len(B)):\n",
    "            if z<=len(A)-1:\n",
    "                print(z)\n",
    "                if B[j]== A[z]:\n",
    "                    marker= marker+1\n",
    "                z = z+1\n",
    "        if marker == len(A):\n",
    "            return \"yes sub list\"\n",
    "    return \"not sub list\"\n",
    "         \n",
    "    \n",
    "A=[26,31,25,40]\n",
    "B=[10,20,26,31,7,25,40,9]\n",
    "print(issub(A,B))"
   ]
  },
  {
   "cell_type": "code",
   "execution_count": 14,
   "metadata": {},
   "outputs": [
    {
     "name": "stdout",
     "output_type": "stream",
     "text": [
      "4\n"
     ]
    }
   ],
   "source": [
    "def timesOccursIn(k,A):\n",
    "    x = 0 \n",
    "    return findall(k, A, x)\n",
    "\n",
    "def findall(k, A, x):\n",
    "    if len(A)==0:\n",
    "        return x\n",
    "    if k==A[0]:\n",
    "        x=x+1\n",
    "    return findall(k, A[1:], x)\n",
    "\n",
    "A=[1,2,5,3,6,5,3,5,5,4]\n",
    "print(timesOccursIn(5,A))\n",
    "\n",
    "# recursion needs you to return the function itself\n",
    "# it also needs a break else it will go on for ever\n"
   ]
  },
  {
   "cell_type": "code",
   "execution_count": 22,
   "metadata": {},
   "outputs": [
    {
     "name": "stdout",
     "output_type": "stream",
     "text": [
      "[50, 120, 310, 70, 250]\n"
     ]
    }
   ],
   "source": [
    "def multall(k, A):\n",
    "    i = 0\n",
    "    return mrec(k, A, i)\n",
    "\n",
    "def mrec(k, A, i):\n",
    "    if i>=len(A):\n",
    "        return A\n",
    "    A[i]= A[i]*k\n",
    "    i=i+1\n",
    "    return mrec(k, A, i)\n",
    "\n",
    "A= [5,12,31,7,25]\n",
    "print(multall(10, A))"
   ]
  },
  {
   "cell_type": "code",
   "execution_count": null,
   "metadata": {},
   "outputs": [],
   "source": []
  },
  {
   "cell_type": "code",
   "execution_count": null,
   "metadata": {},
   "outputs": [],
   "source": []
  }
 ],
 "metadata": {
  "kernelspec": {
   "display_name": "Python 3",
   "language": "python",
   "name": "python3"
  },
  "language_info": {
   "codemirror_mode": {
    "name": "ipython",
    "version": 3
   },
   "file_extension": ".py",
   "mimetype": "text/x-python",
   "name": "python",
   "nbconvert_exporter": "python",
   "pygments_lexer": "ipython3",
   "version": "3.7.6"
  }
 },
 "nbformat": 4,
 "nbformat_minor": 4
}
